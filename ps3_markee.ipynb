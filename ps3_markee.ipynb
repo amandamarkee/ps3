{
 "cells": [
  {
   "cell_type": "markdown",
   "id": "e1a97032-ea87-4f7d-bbfd-53be795ced0a",
   "metadata": {},
   "source": [
    "# BSC4452 Problem Set 3 – Using Python, Due 10/24/2022\n",
    "\n",
    "_Note: This assignment will have peer review. It is important to be able to look at someone else's code and figure out what they are doing. It's also important to write code with the idea that someone else will look at it and needs to understand it. While I will take both the peer reviewer's comments on your code and your comments on the peer reviewed code into account when assigning grades, I will be assigning the grade, not the reviewer._\n",
    "\n",
    "## Problem Set 3 Instructions from Canvas\n",
    "- This should be turned in as a public github repository (for this each person will create their own repository rather than using GitHub Classrooms) with your code either in Python scripts or Jupyter Notebooks.\n",
    "\n",
    "- You may work on this in groups or on your own. If you work as a group, you should create the group in Canvas so that you are not assigned to review another submission from your group.\n",
    "\n",
    "- Even if you work in groups, each person must submit the assignment in Canvas for the peer review process to work.\n",
    "\n",
    "\n",
    "## Data\n",
    "- The data file for this problem set is at: \n",
    "```\n",
    "  /bsc4452/share/Class_Files/data/CO-OPS__8729108__wl.csv\n",
    "```\n",
    "_Note, there are double underscores on either side of the number in the filename. The file is also in the Class_Files git repo._"
   ]
  },
  {
   "cell_type": "markdown",
   "id": "b6426541-e078-4ed5-bc66-9a6746de4f8c",
   "metadata": {},
   "source": [
    "## Problems "
   ]
  },
  {
   "cell_type": "markdown",
   "id": "ade5b75e-6698-43c2-bd09-c60d153ff9c9",
   "metadata": {},
   "source": [
    "### Problem 1 (5 pts):\n",
    "Write a script (or Jupyter Notebook code block) that opens the file, uses a for loop to read through the file line by line and reports the highest water level and the date and time that was observed."
   ]
  },
  {
   "cell_type": "code",
   "execution_count": 11,
   "id": "77b8cdc4-51eb-404c-aa93-7ef827fc3ddf",
   "metadata": {},
   "outputs": [
    {
     "name": "stdout",
     "output_type": "stream",
     "text": [
      "The highest water level in the data set is 6.647 inches, observed on 2018-10-10 18:06\n"
     ]
    }
   ],
   "source": [
    "# first we open our file\n",
    "fhand = open('/blue/bsc4452/share/Class_Files/data/CO-OPS__8729108__wl.csv') # handle into our file\n",
    "\n",
    "# next we define our variables. we will add to this section as we need to define more variables for the function\n",
    "count = 0 \n",
    "max_water = 0\n",
    "date_max_water = ''\n",
    "\n",
    "for line in fhand:\n",
    "    count = count + 1\n",
    "    line = line.strip() #.rstrip gets rid of blank space from end of line (right strip), .strip does both\n",
    "\n",
    "    columns = line.split(sep=',') # this splits by spaces, but we want to split by comma\n",
    "    date = (columns[0]) # identifies and defines the date column\n",
    "    try:\n",
    "        water_level = float(columns[1]) # identifies and defines the water level column\n",
    "    except:\n",
    "        continue\n",
    "    \n",
    "    if water_level > max_water: # this if statement starts at max_water 0, compares each line and re-saves highest water level after iterating through all lines\n",
    "        max_water = water_level\n",
    "        date_max_water = date\n",
    "    \n",
    "print(f'The highest water level in the data set is {max_water} inches, observed on {date_max_water}')\n"
   ]
  },
  {
   "cell_type": "markdown",
   "id": "55ffe107-cb60-4055-ad4c-0a27a4944ad0",
   "metadata": {},
   "source": [
    "### Problem 2 (5 pts):\n",
    "Either in a new script or modifying the above script, calculate the lowest, highest and average water level observed during the time period. As above, print the date and time for the lowest and highest readings. "
   ]
  },
  {
   "cell_type": "code",
   "execution_count": 10,
   "id": "cdc22d36-f8d1-4c2d-a160-d9ea9a5b00e9",
   "metadata": {},
   "outputs": [
    {
     "name": "stdout",
     "output_type": "stream",
     "text": [
      "The highest water level in the dataset is 6.647 inches, observed on 2018-10-10 18:06\n",
      "The lowest water level in the dataset is 2.218 inches, observed on 2018-10-12 00:24\n",
      "The average water level in the dataset is\n"
     ]
    }
   ],
   "source": [
    "# first we open our file\n",
    "fhand = open('/blue/bsc4452/share/Class_Files/data/CO-OPS__8729108__wl.csv') # handle into our file\n",
    "\n",
    "# next we define our variables. we will add to this section as we need to define more variables for the function\n",
    "count = 0 \n",
    "max_water = 0\n",
    "min_water = 0\n",
    "date_max_water = ''\n",
    "date_min_water = ''\n",
    "\n",
    "for line in fhand:\n",
    "    count = count + 1\n",
    "    line = line.strip() #.rstrip gets rid of blank space from end of line (right strip), .strip does both\n",
    "\n",
    "    columns = line.split(sep=',') # this splits by spaces, but we want to split by comma\n",
    "    date = (columns[0]) # identifies and defines the date column\n",
    "    try:\n",
    "        water_level = float(columns[1]) # identifies and defines the water level column\n",
    "    except:\n",
    "        continue\n",
    "    \n",
    "    if water_level > max_water: # this if statement starts at max_water 0, compares each line and re-saves highest water level after iterating through all lines\n",
    "        max_water = water_level\n",
    "        date_max_water = date\n",
    "        \n",
    "    if water_level != 0:\n",
    "        water_level < max_water # this if statement starts from max_water saved variable, and re-saves lowest\n",
    "        min_water = water_level\n",
    "        date_min_water = date\n",
    "        \n",
    "def get_water_average():\n",
    "    mean_water = []\n",
    "    water_level = float(columns[1])\n",
    "    for x in water_level:\n",
    "        mean_water = mean_water.append(mean_water)\n",
    "        return mean_water\n",
    "        \n",
    "print(f'The highest water level in the dataset is {max_water} inches, observed on {date_max_water}')\n",
    "print(f'The lowest water level in the dataset is {min_water} inches, observed on {date_min_water}') # giving a value not the lowest\n",
    "print(f'The average water level in the dataset is') # this function will not work because cant iterate floats"
   ]
  },
  {
   "cell_type": "code",
   "execution_count": null,
   "id": "d576c4a0-d985-4df1-b746-9c6a394cf7a6",
   "metadata": {},
   "outputs": [],
   "source": []
  },
  {
   "cell_type": "markdown",
   "id": "340b6ab1-db97-4754-83e0-bed971a8be3b",
   "metadata": {},
   "source": [
    "### Problem 4 (5 pts):\n",
    "Imagine that the file is providing live readings of the water level. Write a script (or Jupyter Notebook) to print a line of text with a warning if any of these events occur:\n",
    "\n",
    "- The water level increases more than 0.25 since the previous recording.\n",
    "- The water level is over 5.0.\n",
    "- No reading is received at a time point."
   ]
  },
  {
   "cell_type": "code",
   "execution_count": null,
   "id": "73c62d2c-e32e-4f6b-bc72-06c9b62a3e8d",
   "metadata": {},
   "outputs": [],
   "source": []
  },
  {
   "cell_type": "markdown",
   "id": "f89563f1-6489-4ba0-9e78-71607f9b8a3a",
   "metadata": {},
   "source": [
    "### Peer Review:\n",
    "- Each person will review one other person's answers and leave comments. \n",
    "- If the code works for the reviewer and produces the desired result, they will say so.\n",
    "- If it doesn't work they will try to figure out why and suggest a fix.\n",
    "- If the reviewer can understand the code, its logic and what you are doing they will say so.\n",
    "- If the reviewer can't understand what you were doing, they will suggest where things are confusing and how to improve."
   ]
  },
  {
   "cell_type": "code",
   "execution_count": null,
   "id": "66646103-f885-46fa-8891-b78e458f0c31",
   "metadata": {},
   "outputs": [],
   "source": []
  }
 ],
 "metadata": {
  "kernelspec": {
   "display_name": "UFRC Python-3.10",
   "language": "python",
   "name": "python3-3.10-ufrc"
  },
  "language_info": {
   "codemirror_mode": {
    "name": "ipython",
    "version": 3
   },
   "file_extension": ".py",
   "mimetype": "text/x-python",
   "name": "python",
   "nbconvert_exporter": "python",
   "pygments_lexer": "ipython3",
   "version": "3.10.5"
  }
 },
 "nbformat": 4,
 "nbformat_minor": 5
}
